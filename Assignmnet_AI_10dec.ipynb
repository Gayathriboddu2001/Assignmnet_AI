{
 "cells": [
  {
   "cell_type": "code",
   "execution_count": 8,
   "id": "d6d8d1e6",
   "metadata": {},
   "outputs": [
    {
     "name": "stdout",
     "output_type": "stream",
     "text": [
      "5\n",
      "-1\n",
      "-4\n",
      "5\n",
      "6\n",
      "0\n",
      "[5, 6]\n"
     ]
    }
   ],
   "source": [
    "n=int(input())\n",
    "list=[]\n",
    "list1=[]\n",
    "for i in range(0,n):\n",
    "    a=int(input())\n",
    "    list.append(a)\n",
    "for j in list:\n",
    "    if j>0:\n",
    "        list1.append(j)\n",
    "        \n",
    "print(list1)\n",
    "    "
   ]
  },
  {
   "cell_type": "code",
   "execution_count": null,
   "id": "b597f401",
   "metadata": {},
   "outputs": [],
   "source": []
  }
 ],
 "metadata": {
  "kernelspec": {
   "display_name": "Python 3",
   "language": "python",
   "name": "python3"
  },
  "language_info": {
   "codemirror_mode": {
    "name": "ipython",
    "version": 3
   },
   "file_extension": ".py",
   "mimetype": "text/x-python",
   "name": "python",
   "nbconvert_exporter": "python",
   "pygments_lexer": "ipython3",
   "version": "3.8.8"
  }
 },
 "nbformat": 4,
 "nbformat_minor": 5
}
